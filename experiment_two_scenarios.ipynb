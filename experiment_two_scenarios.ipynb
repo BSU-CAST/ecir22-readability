{
 "cells": [
  {
   "cell_type": "markdown",
   "metadata": {},
   "source": [
    "### Imports"
   ]
  },
  {
   "cell_type": "code",
   "execution_count": null,
   "metadata": {},
   "outputs": [],
   "source": [
    "import pandas as pd\n",
    "import scipy.stats as stats\n",
    "from tqdm import tqdm\n",
    "import textstat\n",
    "from nltk.stem.porter import PorterStemmer\n",
    "from nltk.tokenize import sent_tokenize, TweetTokenizer\n",
    "import numpy as np"
   ]
  },
  {
   "cell_type": "markdown",
   "metadata": {},
   "source": [
    "### Readability Functions"
   ]
  },
  {
   "cell_type": "code",
   "execution_count": 34,
   "metadata": {},
   "outputs": [],
   "source": [
    "def spache_allen_readability_formula(text):\n",
    "    with open(\"spache_allen.txt\") as f:\n",
    "        easy_words = set(line.strip() for line in f)\n",
    "\n",
    "    return spache(text, easy_words)\n",
    "\n",
    "def spache_extended_readability_formula(text):\n",
    "    with open(\"spache_sven.txt\") as f:\n",
    "        easy_words = set(line.strip() for line in f)\n",
    "\n",
    "    return spache(text, easy_words)\n",
    "\n",
    "def spache_readability_formula(text):\n",
    "    with open(\"spache_easy.txt\") as f:\n",
    "        easy_words = set(line.strip() for line in f)\n",
    "\n",
    "    return spache(text, easy_words)\n",
    "\n",
    "def spache(text, easy_words):\n",
    "    stemmer = PorterStemmer()\n",
    "    tokenizer = TweetTokenizer()\n",
    "    tokens = tokenizer.tokenize(text)\n",
    "    tokens = [t for t in tokens if t.isalnum()]\n",
    "\n",
    "    num_words = len(tokens)\n",
    "    if num_words == 0:\n",
    "        return -1\n",
    "    num_sentences = len(sent_tokenize(text))\n",
    "    num_spache_complex = sum([1 for t in tokens if stemmer.stem(t.lower()) not in easy_words])\n",
    "\n",
    "    avg_sentence_len = num_words / num_sentences\n",
    "    percent_difficult_words = num_spache_complex / num_words * 100\n",
    "\n",
    "    return (0.141 * avg_sentence_len) + (0.086 * percent_difficult_words) + 0.839"
   ]
  },
  {
   "cell_type": "code",
   "execution_count": 35,
   "metadata": {},
   "outputs": [],
   "source": [
    "def get_readabilities(text):\n",
    "    results_list = []\n",
    "    for x in tqdm(text):\n",
    "        results_dict = {}\n",
    "\n",
    "        kincaid = textstat.flesch_kincaid_grade(x)\n",
    "        if kincaid <= 0:\n",
    "            kincaid = 0\n",
    "        elif kincaid > 12:\n",
    "            kincaid = 13\n",
    "\n",
    "        coleman = textstat.coleman_liau_index(x)\n",
    "        if coleman <= 0:\n",
    "            coleman = 0\n",
    "        elif coleman > 12:\n",
    "            coleman = 13\n",
    "\n",
    "        fog = textstat.gunning_fog(x)\n",
    "        if fog <= 0:\n",
    "            fog = 0\n",
    "        elif fog > 12:\n",
    "            fog = 13\n",
    "\n",
    "        smog = textstat.smog_index(x)\n",
    "        if smog <= 0:\n",
    "            smog = 0\n",
    "        elif smog > 12:\n",
    "            smog = 13\n",
    "\n",
    "        lix = textstat.lix(x)\n",
    "        if lix <= 5:\n",
    "            gradelix = 0\n",
    "        elif lix > 5 and lix < 10: \n",
    "            gradelix = 1\n",
    "        elif lix >= 10 and lix < 15:\n",
    "            graelix = 2\n",
    "        elif lix >= 15 and lix < 20: \n",
    "            gradelix = 3\n",
    "        elif lix >= 20 and lix < 24: \n",
    "            gradelix = 4\n",
    "        elif lix >= 24 and lix < 28: \n",
    "            gradelix = 5\n",
    "        elif lix >= 28 and lix < 32: \n",
    "            gradelix = 6\n",
    "        elif lix >= 32 and lix < 36: \n",
    "            gradelix = 7\n",
    "        elif lix >= 36 and lix < 40: \n",
    "            gradelix = 8\n",
    "        elif lix >= 40 and lix < 44: \n",
    "            gradelix = 9\n",
    "        elif lix >= 44 and lix < 48: \n",
    "            gradelix = 10\n",
    "        elif lix >= 48 and lix < 52: \n",
    "            gradelix = 11\n",
    "        elif lix >= 52 and lix < 56: \n",
    "            gradelix = 12\n",
    "        elif lix >= 56: \n",
    "            gradelix = 13\n",
    "\n",
    "        rix = textstat.rix(x)\n",
    "        if rix < 0.2: \n",
    "            graderix = 1\n",
    "        elif rix >= 0.2 and rix < 0.5:\n",
    "            graderix = 2\n",
    "        elif rix >= 0.5 and rix < 0.8: \n",
    "            graderix = 3\n",
    "        elif rix >= 0.8 and rix < 1.3: \n",
    "            graderix = 4\n",
    "        elif rix >= 1.3 and rix < 1.8: \n",
    "            graderix = 5\n",
    "        elif rix >= 1.8 and rix < 2.4: \n",
    "            graderix = 6\n",
    "        elif rix >= 2.4 and rix < 3: \n",
    "            graderix = 7\n",
    "        elif rix >= 3 and rix < 3.7: \n",
    "            graderix = 8\n",
    "        elif rix >= 3.7 and rix < 4.5: \n",
    "            graderix = 9\n",
    "        elif rix >= 4.5 and rix < 5.3:\n",
    "            graderix = 10\n",
    "        elif rix >= 5.3 and rix < 6.2: \n",
    "            graderix = 11\n",
    "        elif rix >= 6.2 and rix < 7.2: \n",
    "            graderix = 12\n",
    "        elif rix >= 7.2: \n",
    "            graderix = 13\n",
    "\n",
    "        dale = textstat.dale_chall_readability_score_v2(x)\n",
    "        if dale < 3:\n",
    "            gradedale = 0\n",
    "        elif dale >= 3 and dale < 3.5: \n",
    "            gradedale = 1\n",
    "        elif dale >= 3.5 and dale < 4: \n",
    "            gradedale = 2\n",
    "        elif dale >= 4 and dale < 4.5: \n",
    "            gradedale = 3\n",
    "        elif dale >= 4.5 and dale < 5: \n",
    "            gradedale = 4\n",
    "        elif dale >= 5 and dale < 5.5: \n",
    "            gradedale = 5\n",
    "        elif dale >= 5.5 and dale < 6: \n",
    "            gradedale = 6\n",
    "        elif dale >= 6 and dale < 6.5: \n",
    "            gradedale = 7\n",
    "        elif dale >= 6.5 and dale < 7: \n",
    "            gradedale = 8\n",
    "        elif dale >= 7 and dale < 7.5: \n",
    "            gradedale = 9\n",
    "        elif dale >= 7.5 and dale < 8: \n",
    "            gradedale = 10\n",
    "        elif dale >= 8 and dale < 8.5: \n",
    "            gradedale = 11\n",
    "        elif dale >= 8.5 and dale < 9: \n",
    "            gradedale = 12\n",
    "        elif dale >= 9: \n",
    "            gradedale = 13\n",
    "\n",
    "        spache_og = spache_readability_formula(x)\n",
    "        if spache_og > 12:\n",
    "            spache_og = 13\n",
    "\n",
    "        spache_allen = spache_allen_readability_formula(x)\n",
    "        if spache_allen > 12:\n",
    "            spache_allen = 13\n",
    "            \n",
    "        spache_ex = spache_extended_readability_formula(x)\n",
    "        if spache_ex > 12:\n",
    "            spache_ex = 13\n",
    "\n",
    "        results_dict[\"Kincaid\"] = kincaid\n",
    "        results_dict[\"ColemanLiau\"] = coleman\n",
    "        results_dict[\"GunningFogIndex\"] = fog\n",
    "        results_dict[\"LIX\"] = gradelix\n",
    "        results_dict[\"SMOGIndex\"] = smog\n",
    "        results_dict[\"RIX\"] = graderix\n",
    "        results_dict[\"DaleChallIndex\"] = gradedale\n",
    "        results_dict[\"Spache\"] = spache_og\n",
    "        results_dict[\"SpacheExpanded\"] = spache_ex\n",
    "        results_dict[\"Spache-Allen\"] =spache_allen\n",
    "        results_list.append(results_dict.copy())\n",
    "        \n",
    "    return results_list"
   ]
  },
  {
   "cell_type": "markdown",
   "metadata": {},
   "source": [
    "### Helper Functions"
   ]
  },
  {
   "cell_type": "code",
   "execution_count": 36,
   "metadata": {},
   "outputs": [],
   "source": [
    "def get_mer_s1s3(q, queries):\n",
    "    formulas_queries = pd.DataFrame(get_readabilities(q))\n",
    "    formulas_queries['query'] = q\n",
    "    formulas_queries['grade'] = queries['grade']\n",
    "    \n",
    "    formulas_queries = formulas_queries[formulas_queries['Spache'] != -1]\n",
    "\n",
    "    formulas_queries['fkg_err'] = abs(formulas_queries['grade'] - formulas_queries['Kincaid'])\n",
    "    formulas_queries['cl_err'] = abs(formulas_queries['grade'] - formulas_queries['ColemanLiau'])\n",
    "    formulas_queries['gf_err'] = abs(formulas_queries['grade'] - formulas_queries['GunningFogIndex'])\n",
    "    formulas_queries['lix_err'] = abs(formulas_queries['grade'] - formulas_queries['LIX'])\n",
    "    formulas_queries['smog_err'] = abs(formulas_queries['grade'] - formulas_queries['SMOGIndex'])\n",
    "    formulas_queries['rix_err'] = abs(formulas_queries['grade'] - formulas_queries['RIX'])\n",
    "    formulas_queries['dc_err'] = abs(formulas_queries['grade'] - formulas_queries['DaleChallIndex'])\n",
    "    formulas_queries['s_err'] = abs(formulas_queries['grade'] - formulas_queries['Spache'])\n",
    "    formulas_queries['se_err'] = abs(formulas_queries['grade'] - formulas_queries['SpacheExpanded'])\n",
    "    formulas_queries['sa_err'] = abs(formulas_queries['grade'] - formulas_queries['Spache-Allen'])\n",
    "    \n",
    "    return formulas_queries"
   ]
  },
  {
   "cell_type": "code",
   "execution_count": 37,
   "metadata": {},
   "outputs": [],
   "source": [
    "def print_mer_s1s3(formulas_queries):\n",
    "    print('FKG Error: ', round(formulas_queries['fkg_err'].mean(),2))\n",
    "    print('DC Error: ', round(formulas_queries['dc_err'].mean(),2))\n",
    "    print('SMOG Error: ', round(formulas_queries['smog_err'].mean(),2))\n",
    "    print('GF Error: ', round(formulas_queries['gf_err'].mean(),2))\n",
    "    print('LIX Error: ', round(formulas_queries['lix_err'].mean(),2))\n",
    "    print('RIX Error: ', round(formulas_queries['rix_err'].mean(),2))\n",
    "    print('CL Error: ', round(formulas_queries['cl_err'].mean(),2))\n",
    "    print('S Error: ', round(formulas_queries['s_err'].mean(),2))\n",
    "    print('SE Error: ', round(formulas_queries['se_err'].mean(),2))\n",
    "    print('SA Error: ', round(formulas_queries['sa_err'].mean(),2))"
   ]
  },
  {
   "cell_type": "code",
   "execution_count": 38,
   "metadata": {},
   "outputs": [],
   "source": [
    "def print_sig_s1s3(formulas_queries):\n",
    "    print('FK / DC Significance: pvalue = ', stats.ttest_rel(np.array(formulas_queries['fkg_err']), np.array(formulas_queries['dc_err']))[1])\n",
    "    print('FK / SMOG Significance: pvalue = ',stats.ttest_rel(np.array(formulas_queries['fkg_err']), np.array(formulas_queries['smog_err']))[1])\n",
    "    print('FK / GF Significance: pvalue = ',stats.ttest_rel(np.array(formulas_queries['fkg_err']), np.array(formulas_queries['gf_err']))[1])\n",
    "    print('FK / LIX Significance: pvalue = ',stats.ttest_rel(np.array(formulas_queries['fkg_err']), np.array(formulas_queries['lix_err']))[1])\n",
    "    print('FK / RIX Significance: pvalue = ',stats.ttest_rel(np.array(formulas_queries['fkg_err']), np.array(formulas_queries['rix_err']))[1])\n",
    "    print('FK / CL Significance: pvalue = ',stats.ttest_rel(np.array(formulas_queries['fkg_err']), np.array(formulas_queries['cl_err']))[1])\n",
    "    print('FK / S Significance: pvalue = ',stats.ttest_rel(np.array(formulas_queries['fkg_err']), np.array(formulas_queries['s_err']))[1])\n",
    "    print('FK / SE Significance: pvalue = ',stats.ttest_rel(np.array(formulas_queries['fkg_err']), np.array(formulas_queries['se_err']))[1])\n",
    "    print('FK / SA Significance: pvalue = ',stats.ttest_rel(np.array(formulas_queries['fkg_err']), np.array(formulas_queries['sa_err']))[1])"
   ]
  },
  {
   "cell_type": "markdown",
   "metadata": {},
   "source": [
    "### Scenario 1"
   ]
  },
  {
   "cell_type": "code",
   "execution_count": 42,
   "metadata": {},
   "outputs": [],
   "source": [
    "queries = pd.read_csv('s1_queries.csv')\n",
    "q = list(queries['query'])"
   ]
  },
  {
   "cell_type": "code",
   "execution_count": 43,
   "metadata": {},
   "outputs": [
    {
     "name": "stderr",
     "output_type": "stream",
     "text": [
      "100%|██████████| 168/168 [00:08<00:00, 19.70it/s]\n"
     ]
    }
   ],
   "source": [
    "mer_s1 = get_mer_s1s3(q, queries)"
   ]
  },
  {
   "cell_type": "code",
   "execution_count": 44,
   "metadata": {},
   "outputs": [
    {
     "name": "stdout",
     "output_type": "stream",
     "text": [
      "FKG Error:  3.72\n",
      "DC Error:  5.94\n",
      "SMOG Error:  4.68\n",
      "GF Error:  4.37\n",
      "LIX Error:  4.49\n",
      "RIX Error:  2.1\n",
      "CL Error:  3.84\n",
      "S Error:  2.74\n",
      "SE Error:  2.3\n",
      "SA Error:  2.34\n"
     ]
    }
   ],
   "source": [
    "print_mer_s1s3(mer_s1)"
   ]
  },
  {
   "cell_type": "code",
   "execution_count": 45,
   "metadata": {},
   "outputs": [
    {
     "name": "stdout",
     "output_type": "stream",
     "text": [
      "FK / DC Significance: pvalue =  9.898694991043038e-16\n",
      "FK / SMOG Significance: pvalue =  1.4157834876396462e-05\n",
      "FK / GF Significance: pvalue =  0.0011807224103815212\n",
      "FK / LIX Significance: pvalue =  0.00020119067244079428\n",
      "FK / RIX Significance: pvalue =  1.2615723720299363e-12\n",
      "FK / CL Significance: pvalue =  0.6042045233376176\n",
      "FK / S Significance: pvalue =  1.37412321228267e-07\n",
      "FK / SE Significance: pvalue =  4.844324749805791e-13\n",
      "FK / SA Significance: pvalue =  1.894323110372182e-12\n"
     ]
    }
   ],
   "source": [
    "print_sig_s1s3(mer_s1)"
   ]
  },
  {
   "cell_type": "markdown",
   "metadata": {},
   "source": [
    "### Scenario 2"
   ]
  },
  {
   "cell_type": "code",
   "execution_count": null,
   "metadata": {},
   "outputs": [],
   "source": [
    "data_original = pd.read_csv('fk_se_requik_results.csv')\n",
    "data_dc = pd.read_csv('dc_se_requik_results.csv')\n",
    "data_smog = pd.read_csv('smog_se_requik_results.csv')\n",
    "data_gf = pd.read_csv('gf_se_requik_results.csv')\n",
    "data_lix = pd.read_csv('lix_se_requik_results.csv')\n",
    "data_rix = pd.read_csv('rix_se_requik_results.csv')\n",
    "data_cl = pd.read_csv('cl_se_requik_results.csv')\n",
    "data_s = pd.read_csv('s_se_requik_results.csv')\n",
    "data_sa = pd.read_csv('sa_se_requik_results.csv')\n",
    "\n",
    "data_fk_sa = pd.read_csv('fk_sa_requik_results.csv')"
   ]
  },
  {
   "cell_type": "code",
   "execution_count": null,
   "metadata": {},
   "outputs": [],
   "source": [
    "queries = list(data_original['query'].unique())"
   ]
  },
  {
   "cell_type": "code",
   "execution_count": null,
   "metadata": {},
   "outputs": [],
   "source": [
    "def get_mrr_s2(data, queries):\n",
    "    s2_mrr = []\n",
    "    for q in queries:\n",
    "        q_data = data[data['query'] == q]\n",
    "        rank = q_data.rank(q)\n",
    "        s2_mrr.append(1/rank)\n",
    "    return s2_mrr"
   ]
  },
  {
   "cell_type": "code",
   "execution_count": null,
   "metadata": {},
   "outputs": [],
   "source": [
    "og_mrr = get_mrr_s2(data_original, queries)\n",
    "dc_mrr = get_mrr_s2(data_dc, queries)\n",
    "smog_mrr = get_mrr_s2(data_smog, queries)\n",
    "gf_mrr = get_mrr_s2(data_gf, queries)\n",
    "lix_mrr = get_mrr_s2(data_lix, queries)\n",
    "rix_mrr = get_mrr_s2(data_rix, queries)\n",
    "cl_mrr = get_mrr_s2(data_cl, queries)\n",
    "s_mrr = get_mrr_s2(data_s, queries)\n",
    "sa_mrr = get_mrr_s2(data_sa, queries)\n",
    "fk_sa_mrr = get_mrr_s2(data_fk_sa, queries)"
   ]
  },
  {
   "cell_type": "code",
   "execution_count": null,
   "metadata": {},
   "outputs": [],
   "source": [
    "print('Original MRR: ', round(sum(og_mrr) / len(og_mrr),2))\n",
    "print('DC/S MRR: ', round(sum(dc_mrr) / len(dc_mrr),2))\n",
    "print('SMOG/S MRR: ', round(sum(smog_mrr) / len(smog_mrr),2))\n",
    "print('GF/S MRR: ', round(sum(gf_mrr) / len(gf_mrr),2))\n",
    "print('LIX/S MRR: ', round(sum(lix_mrr) / len(lix_mrr),2))\n",
    "print('RIX/S MRR: ', round(sum(rix_mrr) / len(rix_mrr),2))\n",
    "print('CL/S MRR: ', round(sum(cl_mrr) / len(cl_mrr),2))\n",
    "print('S/S MRR: ', round(sum(s_mrr) / len(s_mrr),2))\n",
    "print('SA/S MRR: ', round(sum(sa_mrr) / len(sa_mrr),2))\n",
    "print('FK/SA MRR: ', round(sum(fk_sa_mrr) / len(fk_sa_mrr),2))"
   ]
  },
  {
   "cell_type": "code",
   "execution_count": null,
   "metadata": {},
   "outputs": [],
   "source": [
    "print('OG / DC Significance: ', stats.ttest_rel(np.array(og_mrr), np.array(dc_mrr)))\n",
    "print('OG / SMOG Significance: ',stats.ttest_rel(np.array(og_mrr), np.array(smog_mrr)))\n",
    "print('OG / GF Significance: ',stats.ttest_rel(np.array(og_mrr), np.array(gf_mrr)))\n",
    "print('OG / LIX Significance: ',stats.ttest_rel(np.array(og_mrr), np.array(lix_mrr)))\n",
    "print('OG / RIX Significance: ',stats.ttest_rel(np.array(og_mrr), np.array(rix_mrr)))\n",
    "print('OG / CL Significance: ',stats.ttest_rel(np.array(og_mrr), np.array(cl_mrr)))\n",
    "print('OG / S Significance: ',stats.ttest_rel(np.array(og_mrr), np.array(s_mrr)))\n",
    "print('OG / SA Significance: ',stats.ttest_rel(np.array(og_mrr), np.array(sa_mrr)))\n",
    "print('OG / FK/SA Significance: ',stats.ttest_rel(np.array(og_mrr), np.array(fk_sa_mrr)))"
   ]
  },
  {
   "cell_type": "markdown",
   "metadata": {},
   "source": [
    "### Scenario 3"
   ]
  },
  {
   "cell_type": "code",
   "execution_count": null,
   "metadata": {},
   "outputs": [],
   "source": [
    "snippets = pd.read_csv('s3_snippets.csv', index_col=0)\n",
    "snippets.reset_index(inplace=True, drop=True)\n",
    "s = list(snippets['snippet'])"
   ]
  },
  {
   "cell_type": "code",
   "execution_count": null,
   "metadata": {},
   "outputs": [],
   "source": [
    "mer_s3 = get_mer_s1s3(s, snippets)"
   ]
  },
  {
   "cell_type": "code",
   "execution_count": null,
   "metadata": {},
   "outputs": [],
   "source": [
    "print_mer_s1s3(mer_s3)"
   ]
  },
  {
   "cell_type": "code",
   "execution_count": null,
   "metadata": {},
   "outputs": [],
   "source": [
    "print_sig_s1s3(mer_s3)"
   ]
  },
  {
   "cell_type": "markdown",
   "metadata": {},
   "source": [
    "### Scenario 4"
   ]
  },
  {
   "cell_type": "code",
   "execution_count": null,
   "metadata": {},
   "outputs": [],
   "source": [
    "data_s4 = pd.read_csv('data4korsce.csv', index_col=0)"
   ]
  },
  {
   "cell_type": "code",
   "execution_count": null,
   "metadata": {},
   "outputs": [],
   "source": [
    "# Uncomment for Senario 4 (K-4)\n",
    "\n",
    "# data = data[data['grade'] <= 4]\n",
    "# data.reset_index(drop=True, inplace=True)"
   ]
  },
  {
   "cell_type": "code",
   "execution_count": null,
   "metadata": {},
   "outputs": [],
   "source": [
    "mrr_fkg = []\n",
    "mrr_cl = []\n",
    "mrr_gf = []\n",
    "mrr_lix = []\n",
    "mrr_smog = []\n",
    "mrr_rix = []\n",
    "mrr_dc = []\n",
    "mrr_s = []\n",
    "mrr_se = []\n",
    "mrr_sa = []\n",
    "\n",
    "for x in tqdm(query):\n",
    "    temp = data_s4[data_s4['qid'] == x]\n",
    "    \n",
    "    fkg = temp.sort_values(by=['fkg_rank_score'], ascending=False)\n",
    "    fkg.reset_index(inplace=True, drop=True)\n",
    "    \n",
    "    cli = temp.sort_values(by=['cl_rank_score'], ascending=False)\n",
    "    cli.reset_index(inplace=True, drop=True)\n",
    "    \n",
    "    gf = temp.sort_values(by=['gf_rank_score'], ascending=False)\n",
    "    gf.reset_index(inplace=True, drop=True)\n",
    "    \n",
    "    lix = temp.sort_values(by=['lix_rank_score'], ascending=False)\n",
    "    lix.reset_index(inplace=True, drop=True)\n",
    "    \n",
    "    smog = temp.sort_values(by=['smog_rank_score'], ascending=False)\n",
    "    smog.reset_index(inplace=True, drop=True)\n",
    "    \n",
    "    rix = temp.sort_values(by=['rix_rank_score'], ascending=False)\n",
    "    rix.reset_index(inplace=True, drop=True)\n",
    "    \n",
    "    dc = temp.sort_values(by=['dc_rank_score'], ascending=False)\n",
    "    dc.reset_index(inplace=True, drop=True)\n",
    "    \n",
    "    s = temp.sort_values(by=['s_rank_score'], ascending=False)\n",
    "    s.reset_index(inplace=True, drop=True)\n",
    "    \n",
    "    se = temp.sort_values(by=['se_rank_score'], ascending=False)\n",
    "    se.reset_index(inplace=True, drop=True)\n",
    "    \n",
    "    sa = temp.sort_values(by=['sa_rank_score'], ascending=False)\n",
    "    sa.reset_index(inplace=True, drop=True)\n",
    "    \n",
    "    \n",
    "    \n",
    "    rank_fkg = fkg[fkg['rank'] == 1].index[0] + 1\n",
    "    rank_cl = cli[cli['rank'] == 1].index[0] + 1\n",
    "    rank_gf = gf[gf['rank'] == 1].index[0] + 1\n",
    "    rank_lix = lix[lix['rank'] == 1].index[0] + 1\n",
    "    rank_smog = smog[smog['rank'] == 1].index[0] + 1\n",
    "    rank_rix = rix[rix['rank'] == 1].index[0] + 1\n",
    "    rank_dc = dc[dc['rank'] == 1].index[0] + 1\n",
    "    rank_s = s[s['rank'] == 1].index[0] + 1\n",
    "    rank_se = se[se['rank'] == 1].index[0] + 1\n",
    "    rank_sa = sa[sa['rank'] == 1].index[0] + 1\n",
    "    \n",
    "    mrr_fkg.append(1/rank_fkg)\n",
    "    mrr_cl.append(1/rank_cl)\n",
    "    mrr_gf.append(1/rank_gf)\n",
    "    mrr_lix.append(1/rank_lix)\n",
    "    mrr_smog.append(1/rank_smog)\n",
    "    mrr_rix.append(1/rank_rix)\n",
    "    mrr_dc.append(1/rank_dc)\n",
    "    mrr_s.append(1/rank_s)\n",
    "    mrr_se.append(1/rank_se)\n",
    "    mrr_sa.append(1/rank_sa)"
   ]
  },
  {
   "cell_type": "code",
   "execution_count": null,
   "metadata": {},
   "outputs": [],
   "source": [
    "print('Original MRR: ', round(sum(mrr_fkg)/len(mrr_fkg), 2))\n",
    "print('DC MRR: ', round(sum(mrr_dc)/len(mrr_dc), 2))\n",
    "print('Smog MRR: ', round(sum(mrr_smog)/len(mrr_smog), 2))\n",
    "print('GF MRR: ', round(sum(mrr_gf)/len(mrr_gf), 2))\n",
    "print('LIX MRR: ', round(sum(mrr_lix)/len(mrr_lix), 2))\n",
    "print('RIX MRR: ', round(sum(mrr_rix)/len(mrr_rix), 2))\n",
    "print('CL MRR: ', round(sum(mrr_cl)/len(mrr_cl), 2))\n",
    "print('Spache MRR: ', round(sum(mrr_s)/len(mrr_s), 2))\n",
    "print('Spache-E MRR: ', round(sum(mrr_se)/len(mrr_se), 2))\n",
    "print('Spache-Allen MRR: ', round(sum(mrr_sa)/len(mrr_sa), 2))"
   ]
  },
  {
   "cell_type": "code",
   "execution_count": null,
   "metadata": {},
   "outputs": [],
   "source": [
    "print('OG / DC Significance: ', stats.ttest_rel(np.array(mrr_fkg), np.array(mrr_dc)))\n",
    "print('OG / SMOG Significance: ',stats.ttest_rel(np.array(mrr_fkg), np.array(mrr_smog)))\n",
    "print('OG / GF Significance: ',stats.ttest_rel(np.array(mrr_fkg), np.array(mrr_gf)))\n",
    "print('OG / LIX Significance: ',stats.ttest_rel(np.array(mrr_fkg), np.array(mrr_lix)))\n",
    "print('OG / RIX Significance: ',stats.ttest_rel(np.array(mrr_fkg), np.array(mrr_rix)))\n",
    "print('OG / CL Significance: ',stats.ttest_rel(np.array(mrr_fkg), np.array(mrr_cl)))\n",
    "print('OG / S Significance: ',stats.ttest_rel(np.array(mrr_fkg), np.array(mrr_s)))\n",
    "print('OG / SE Significance: ',stats.ttest_rel(np.array(mrr_fkg), np.array(mrr_se)))\n",
    "print('OG / SA Significance: ',stats.ttest_rel(np.array(mrr_fkg), np.array(mrr_sa)))"
   ]
  }
 ],
 "metadata": {
  "kernelspec": {
   "display_name": "Python 3",
   "language": "python",
   "name": "python3"
  },
  "language_info": {
   "codemirror_mode": {
    "name": "ipython",
    "version": 3
   },
   "file_extension": ".py",
   "mimetype": "text/x-python",
   "name": "python",
   "nbconvert_exporter": "python",
   "pygments_lexer": "ipython3",
   "version": "3.8.0"
  }
 },
 "nbformat": 4,
 "nbformat_minor": 4
}
